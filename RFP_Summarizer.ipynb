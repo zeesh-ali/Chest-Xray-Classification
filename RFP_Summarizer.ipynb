{
  "nbformat": 4,
  "nbformat_minor": 0,
  "metadata": {
    "colab": {
      "name": "RFP Summarizer.ipynb",
      "provenance": [],
      "collapsed_sections": [],
      "toc_visible": true,
      "include_colab_link": true
    },
    "kernelspec": {
      "name": "python3",
      "display_name": "Python 3"
    }
  },
  "cells": [
    {
      "cell_type": "markdown",
      "metadata": {
        "id": "view-in-github",
        "colab_type": "text"
      },
      "source": [
        "<a href=\"https://colab.research.google.com/github/zeesh-ali/Chest-Xray-Classification/blob/master/RFP_Summarizer.ipynb\" target=\"_parent\"><img src=\"https://colab.research.google.com/assets/colab-badge.svg\" alt=\"Open In Colab\"/></a>"
      ]
    },
    {
      "cell_type": "code",
      "metadata": {
        "colab_type": "code",
        "id": "prLrL8L2rP6E",
        "colab": {}
      },
      "source": [
        "#importing library\n",
        "from nltk.corpus import stopwords\n",
        "from nltk.cluster.util import cosine_distance\n",
        "import numpy as np\n",
        "import networkx as nx\n",
        " \n",
        "def read_article(file_name):\n",
        "    file = open(file_name,\"r\",encoding='iso-8859-1',errors='replace')\n",
        "    filedata = file.readlines()\n",
        "    \n",
        "    ll=''\n",
        "    for line in filedata:\n",
        "      ll=ll+\" \"+line.strip()\n",
        "    #article = filedata[0].split(\". \")\n",
        "    article=ll.split(\". \")\n",
        "    sentences = []\n",
        "\n",
        "    for sentence in article:\n",
        "        print(sentence)\n",
        "        sentences.append(sentence.replace(\"[^a-zA-Z]\", \" \").split(\" \"))\n",
        "    sentences.pop() \n",
        "    \n",
        "    return sentences\n",
        "\n",
        "def sentence_similarity(sent1, sent2, stopwords=None):\n",
        "    if stopwords is None:\n",
        "        stopwords = []\n",
        " \n",
        "    sent1 = [w.lower() for w in sent1]\n",
        "    sent2 = [w.lower() for w in sent2]\n",
        " \n",
        "    all_words = list(set(sent1 + sent2))\n",
        " \n",
        "    vector1 = [0] * len(all_words)\n",
        "    vector2 = [0] * len(all_words)\n",
        " \n",
        "    # build the vector for the first sentence\n",
        "    for w in sent1:\n",
        "        if w in stopwords:\n",
        "            continue\n",
        "        vector1[all_words.index(w)] += 1\n",
        " \n",
        "    # build the vector for the second sentence\n",
        "    for w in sent2:\n",
        "        if w in stopwords:\n",
        "            continue\n",
        "        vector2[all_words.index(w)] += 1\n",
        " \n",
        "    return 1 - cosine_distance(vector1, vector2)\n",
        " \n",
        "def build_similarity_matrix(sentences, stop_words):\n",
        "    # Create an empty similarity matrix\n",
        "    similarity_matrix = np.zeros((len(sentences), len(sentences)))\n",
        " \n",
        "    for idx1 in range(len(sentences)):\n",
        "        for idx2 in range(len(sentences)):\n",
        "            if idx1 == idx2: #ignore if both are same sentences\n",
        "                continue \n",
        "            similarity_matrix[idx1][idx2] = sentence_similarity(sentences[idx1], sentences[idx2], stop_words)\n",
        "\n",
        "    return similarity_matrix\n",
        "\n",
        "\n",
        "def generate_summary(file_name, top_n=5):\n",
        "    stop_words = stopwords.words('english')\n",
        "    summarize_text = []\n",
        "\n",
        "    # Step 1 - Read text anc split it\n",
        "    sentences =  read_article(file_name)\n",
        "\n",
        "    # Step 2 - Generate Similary Martix across sentences\n",
        "    sentence_similarity_martix = build_similarity_matrix(sentences, stop_words)\n",
        "\n",
        "    # Step 3 - Rank sentences in similarity martix\n",
        "    sentence_similarity_graph = nx.from_numpy_array(sentence_similarity_martix)\n",
        "    scores = nx.pagerank(sentence_similarity_graph)\n",
        "\n",
        "    # Step 4 - Sort the rank and pick top sentences\n",
        "    ranked_sentence = sorted(((scores[i],s) for i,s in enumerate(sentences)), reverse=True)    \n",
        "    print(\"Indexes of top ranked_sentence order are \", ranked_sentence)    \n",
        "    \n",
        "    if(top_n<len(ranked_sentence)):\n",
        "      for i in range(top_n):\n",
        "        summarize_text.append(\" \".join(ranked_sentence[i][1]))\n",
        "    else:\n",
        "      for i in range(len(ranked_sentence)):\n",
        "        summarize_text.append(\" \".join(ranked_sentence[i][1]))\n",
        "    # Step 5 - output the summarize text\n",
        "    print(\"Summarize Text: \\n\", \". \".join(summarize_text))\n",
        "\n"
      ],
      "execution_count": 0,
      "outputs": []
    },
    {
      "cell_type": "code",
      "metadata": {
        "id": "XYOdATWL-akS",
        "colab_type": "code",
        "outputId": "d9713a65-9f8b-45d6-932d-748a8a03aa23",
        "colab": {
          "base_uri": "https://localhost:8080/",
          "height": 479
        }
      },
      "source": [
        "#Running the output\n",
        "generate_summary( \"rfpdt.txt\", 10)"
      ],
      "execution_count": 0,
      "outputs": [
        {
          "output_type": "stream",
          "text": [
            "sdebug ['Summarize Text: AbbVie Inc. Request for Proposal (RFP) for myRA! Platform Delivery Issue Date: July 30, 2013 RFP Due Date: August 14, 2013 Table of Contents 1. Introduction 4 1.1 RFP Description 4 1.2 RFP Purpose 4 1.3 Glossary of Terms 4 1.4 Bidding on the RFP 5 1.5 Related Documents 5 2. Background 6 2.1 AbbVie Business Background 6 2.2 Regulatory Affairs Business Background 6 2.3 Project Objectives 8 3. RFP Scope 9 3.1 Project Overview 9 3.2 Project Milestones 9 3.3 Solution Areas 9 3.4 Platform Components 10 3.5 Delivery Process 11 3.6 Deliverables 13 4. Technical Considerations 15 4.1 Service-oriented Architecture 15 4.2 Solution Technology Preferences 15 4.3 Technical Environments 16 4.4 Integrations 16 4.5 Cloud Computing Solutions 17 4.6 Innovative Solutions and Accelerators 18 4.7 Common ?Master? Data Management 18 5. Project Bidding Assumptions 20 5.1 Vendor Mix 20 5.2 Buyer Cost Preferences 20 5.3 Process and Procedures 20 5.4 Quality of Deliverables 20 5.5 Leveraging Assets and Creative Design 21 5.6 Delivery Approach 21 5.7 Facilities and Computing Services 21 6. Contact Information and Timeline 22 6.1 Point of Contact 22 6.2 Response Process and Timelines 22 7. RFP Rules and Guidelines 24 7.1 General RFP Terms and Procedures 24 7.2 Written Response Guidelines 25 7.3 Presentation Guidelines 25 7.4 Supplier Selection Guidelines 26 7.5 Evaluation Guidelines 27 8. Nondisclosure Agreement and Usage Restrictions 28 9. RFP Response Format 29 9.1 Cover Letter 29 9.2 Management Summary 29 9.3 Company Background Questionnaire 29 9.4 Project Team Structure, Project Team Profile, and Key Personnel Bios 29 9.5 Implementation Approach and Preliminary Work-plan 30 9.6 Solution Design Approach 30 9.7 Client References 30 9.8 Pricing Schedule 31 9.9 Pricing Assumptions 31 9.10 Time and Materials Hourly Rate Card 31 9.11 Capability Requirements Assessment 31 1. Introduction 1.1 RFP Description This is a Request for Proposal (RFP), not an order. Facts: Chairman and CEO: Rick Gonzalez Corporate Headquarters: North suburban Chicago (Lake County), Illinois, USA Stock Exchange Listing: ABBV: NYSE Number of Employees: Worldwide: 21,000 2012 Net Sales: $18.38 billion Facilities: Locations within more than 100 countries Pharmaceutical Research Centers: ? Abbott Park and North Chicago, Illinois, USA ? Redwood City, CA, USA ? Worcester, MA, USA ? Ludwigshafen, Germany Data Centers ? Asia ? Midwest ? Europe Countries Where Products are Sold: More than 170 Areas of Expertise: Specialty-focused, research-based biopharmaceutical company 2.2 Regulatory Affairs Business Background Regulatory Affairs Overview Regulatory Affairs (RA) is the organization within AbbVie that ensures compliance with all the regulations and laws pertaining to health care products. 7.5 Evaluation Guidelines Respondents will be evaluated on the basis of the written proposal and, if selected, the on-site presentation. VP of Regulatory Affairs: Ron Robison Number of Regulatory Affairs Employees: 600 Number of Affiliates: Approximately 75 Countries Where Products are Sold: More than 160 across 5 regions Number of Global Regulatory Submissions/Month: More than 30 Corporate Services (HQ) and Affiliates Area & Affiliate (A&A) Regulatory Affairs is accountable for area, regional, and affiliate regulatory strategies and deliverables for the proprietary product portfolio in alignment with the overarching global regulatory strategy for each product. 2.3 Project Objectives AbbVie Regulatory Affairs has traditionally used standard off-the-shelf proprietary vendor applications to deliver independent solutions that solve departmental application-specific problems. J23 North Chicago, IL 60064 United States of America Work Phone 847-938-7865 E-mail james.kulakowski@abbvie.com Secondary Buyer Contact Information Name Lia Bronson, AbbVie RA IT Program Manager Work Phone 847-935-1233 E-mail lia.bronson@abbvie.com 6.2 Response Process and Timelines The RFP process and timelines are indicated in the table below. 9.8 Pricing Schedule The Buyer intends to award a contract for a series of deliverables comprising the myRA! e-business solution. myRA! ? Portal & Integration Platform The myRA! Platform will contain the following re-usable and configurable capabilities: Personalized User Experience ? User-Configurable User Experience ? Tailor-able Experience based on User Roles ? Single Sign-On ? Self-manage, monitor, and execute tasks ? Manage Basic Workflow and approvals ? Context-based reporting and analytics Process Workflow Enablement ? Two-way managed request-response ? Cross-functional process workflow ? Joint decision-making and content review ? Track and monitor end-to-end process activity ? Automatic notifications of events and status Integrated and Readily-accessible Data ? Automated delivery of right-time content ? Deliver integrated data from multiple sources ? Maintain integrity of data across systems ? Automate and expedite data entry The solution will require forward-thinking to consider scaling for globalization, collaboration opportunities, business service extensions, and ultimately support for multiple channels including web, e-mail, and mobile support. 5. Project Bidding Assumptions 5.1 Vendor Mix ? The Supplier?s bid must be provided by a primary vendor that will be accountable for delivery']\n",
            " Summarize Text: AbbVie Inc\n",
            "Request for Proposal (RFP) for myRA! Platform Delivery Issue Date: July 30, 2013 RFP Due Date: August 14, 2013 Table of Contents 1\n",
            "Introduction 4 1.1 RFP Description 4 1.2 RFP Purpose 4 1.3 Glossary of Terms 4 1.4 Bidding on the RFP 5 1.5 Related Documents 5 2\n",
            "Background 6 2.1 AbbVie Business Background 6 2.2 Regulatory Affairs Business Background 6 2.3 Project Objectives 8 3\n",
            "RFP Scope 9 3.1 Project Overview 9 3.2 Project Milestones 9 3.3 Solution Areas 9 3.4 Platform Components 10 3.5 Delivery Process 11 3.6 Deliverables 13 4\n",
            "Technical Considerations 15 4.1 Service-oriented Architecture 15 4.2 Solution Technology Preferences 15 4.3 Technical Environments 16 4.4 Integrations 16 4.5 Cloud Computing Solutions 17 4.6 Innovative Solutions and Accelerators 18 4.7 Common ?Master? Data Management 18 5\n",
            "Project Bidding Assumptions 20 5.1 Vendor Mix 20 5.2 Buyer Cost Preferences 20 5.3 Process and Procedures 20 5.4 Quality of Deliverables 20 5.5 Leveraging Assets and Creative Design 21 5.6 Delivery Approach 21 5.7 Facilities and Computing Services 21 6\n",
            "Contact Information and Timeline 22 6.1 Point of Contact 22 6.2 Response Process and Timelines 22 7\n",
            "RFP Rules and Guidelines 24 7.1 General RFP Terms and Procedures 24 7.2 Written Response Guidelines 25 7.3 Presentation Guidelines 25 7.4 Supplier Selection Guidelines 26 7.5 Evaluation Guidelines 27 8\n",
            "Nondisclosure Agreement and Usage Restrictions 28 9\n",
            "RFP Response Format 29 9.1 Cover Letter 29 9.2 Management Summary 29 9.3 Company Background Questionnaire 29 9.4 Project Team Structure, Project Team Profile, and Key Personnel Bios 29 9.5 Implementation Approach and Preliminary Work-plan 30 9.6 Solution Design Approach 30 9.7 Client References 30 9.8 Pricing Schedule 31 9.9 Pricing Assumptions 31 9.10 Time and Materials Hourly Rate Card 31 9.11 Capability Requirements Assessment 31 1\n",
            "Introduction 1.1 RFP Description This is a Request for Proposal (RFP), not an order\n",
            "Facts: Chairman and CEO: Rick Gonzalez Corporate Headquarters: North suburban Chicago (Lake County), Illinois, USA Stock Exchange Listing: ABBV: NYSE Number of Employees: Worldwide: 21,000 2012 Net Sales: $18.38 billion Facilities: Locations within more than 100 countries Pharmaceutical Research Centers: ? Abbott Park and North Chicago, Illinois, USA ? Redwood City, CA, USA ? Worcester, MA, USA ? Ludwigshafen, Germany Data Centers ? Asia ? Midwest ? Europe Countries Where Products are Sold: More than 170 Areas of Expertise: Specialty-focused, research-based biopharmaceutical company 2.2 Regulatory Affairs Business Background Regulatory Affairs Overview Regulatory Affairs (RA) is the organization within AbbVie that ensures compliance with all the regulations and laws pertaining to health care products\n",
            "7.5 Evaluation Guidelines Respondents will be evaluated on the basis of the written proposal and, if selected, the on-site presentation\n",
            "VP of Regulatory Affairs: Ron Robison Number of Regulatory Affairs Employees: 600 Number of Affiliates: Approximately 75 Countries Where Products are Sold: More than 160 across 5 regions Number of Global Regulatory Submissions/Month: More than 30 Corporate Services (HQ) and Affiliates Area & Affiliate (A&A) Regulatory Affairs is accountable for area, regional, and affiliate regulatory strategies and deliverables for the proprietary product portfolio in alignment with the overarching global regulatory strategy for each product\n",
            "2.3 Project Objectives AbbVie Regulatory Affairs has traditionally used standard off-the-shelf proprietary vendor applications to deliver independent solutions that solve departmental application-specific problems\n",
            "J23 North Chicago, IL 60064 United States of America Work Phone 847-938-7865 E-mail james.kulakowski@abbvie.com Secondary Buyer Contact Information Name Lia Bronson, AbbVie RA IT Program Manager Work Phone 847-935-1233 E-mail lia.bronson@abbvie.com 6.2 Response Process and Timelines The RFP process and timelines are indicated in the table below\n",
            "9.8 Pricing Schedule The Buyer intends to award a contract for a series of deliverables comprising the myRA! e-business solution\n",
            "myRA! ? Portal & Integration Platform The myRA! Platform will contain the following re-usable and configurable capabilities: Personalized User Experience ? User-Configurable User Experience ? Tailor-able Experience based on User Roles ? Single Sign-On ? Self-manage, monitor, and execute tasks ? Manage Basic Workflow and approvals ? Context-based reporting and analytics Process Workflow Enablement ? Two-way managed request-response ? Cross-functional process workflow ? Joint decision-making and content review ? Track and monitor end-to-end process activity ? Automatic notifications of events and status Integrated and Readily-accessible Data ? Automated delivery of right-time content ? Deliver integrated data from multiple sources ? Maintain integrity of data across systems ? Automate and expedite data entry The solution will require forward-thinking to consider scaling for globalization, collaboration opportunities, business service extensions, and ultimately support for multiple channels including web, e-mail, and mobile support\n",
            "5\n",
            "Project Bidding Assumptions 5.1 Vendor Mix ? The Supplier?s bid must be provided by a primary vendor that will be accountable for delivery\n",
            "Indexes of top ranked_sentence order are  [(0.0822092175597084, ['RFP', 'Scope', '9', '3.1', 'Project', 'Overview', '9', '3.2', 'Project', 'Milestones', '9', '3.3', 'Solution', 'Areas', '9', '3.4', 'Platform', 'Components', '10', '3.5', 'Delivery', 'Process', '11', '3.6', 'Deliverables', '13', '4']), (0.07858717381735003, ['Introduction', '4', '1.1', 'RFP', 'Description', '4', '1.2', 'RFP', 'Purpose', '4', '1.3', 'Glossary', 'of', 'Terms', '4', '1.4', 'Bidding', 'on', 'the', 'RFP', '5', '1.5', 'Related', 'Documents', '5', '2']), (0.07127837033146911, ['Facts:', 'Chairman', 'and', 'CEO:', 'Rick', 'Gonzalez', 'Corporate', 'Headquarters:', 'North', 'suburban', 'Chicago', '(Lake', 'County),', 'Illinois,', 'USA', 'Stock', 'Exchange', 'Listing:', 'ABBV:', 'NYSE', 'Number', 'of', 'Employees:', 'Worldwide:', '21,000', '2012', 'Net', 'Sales:', '$18.38', 'billion', 'Facilities:', 'Locations', 'within', 'more', 'than', '100', 'countries', 'Pharmaceutical', 'Research', 'Centers:', '?', 'Abbott', 'Park', 'and', 'North', 'Chicago,', 'Illinois,', 'USA', '?', 'Redwood', 'City,', 'CA,', 'USA', '?', 'Worcester,', 'MA,', 'USA', '?', 'Ludwigshafen,', 'Germany', 'Data', 'Centers', '?', 'Asia', '?', 'Midwest', '?', 'Europe', 'Countries', 'Where', 'Products', 'are', 'Sold:', 'More', 'than', '170', 'Areas', 'of', 'Expertise:', 'Specialty-focused,', 'research-based', 'biopharmaceutical', 'company', '2.2', 'Regulatory', 'Affairs', 'Business', 'Background', 'Regulatory', 'Affairs', 'Overview', 'Regulatory', 'Affairs', '(RA)', 'is', 'the', 'organization', 'within', 'AbbVie', 'that', 'ensures', 'compliance', 'with', 'all', 'the', 'regulations', 'and', 'laws', 'pertaining', 'to', 'health', 'care', 'products']), (0.06212138037347322, ['J23', 'North', 'Chicago,', 'IL', '60064', 'United', 'States', 'of', 'America', 'Work', 'Phone', '847-938-7865', 'E-mail', 'james.kulakowski@abbvie.com', 'Secondary', 'Buyer', 'Contact', 'Information', 'Name', 'Lia', 'Bronson,', 'AbbVie', 'RA', 'IT', 'Program', 'Manager', 'Work', 'Phone', '847-935-1233', 'E-mail', 'lia.bronson@abbvie.com', '6.2', 'Response', 'Process', 'and', 'Timelines', 'The', 'RFP', 'process', 'and', 'timelines', 'are', 'indicated', 'in', 'the', 'table', 'below']), (0.06177372321264078, ['2.3', 'Project', 'Objectives', 'AbbVie', 'Regulatory', 'Affairs', 'has', 'traditionally', 'used', 'standard', 'off-the-shelf', 'proprietary', 'vendor', 'applications', 'to', 'deliver', 'independent', 'solutions', 'that', 'solve', 'departmental', 'application-specific', 'problems']), (0.060875285036678814, ['Background', '6', '2.1', 'AbbVie', 'Business', 'Background', '6', '2.2', 'Regulatory', 'Affairs', 'Business', 'Background', '6', '2.3', 'Project', 'Objectives', '8', '3']), (0.0570957592095889, ['RFP', 'Rules', 'and', 'Guidelines', '24', '7.1', 'General', 'RFP', 'Terms', 'and', 'Procedures', '24', '7.2', 'Written', 'Response', 'Guidelines', '25', '7.3', 'Presentation', 'Guidelines', '25', '7.4', 'Supplier', 'Selection', 'Guidelines', '26', '7.5', 'Evaluation', 'Guidelines', '27', '8']), (0.05696416458462254, ['Introduction', '1.1', 'RFP', 'Description', 'This', 'is', 'a', 'Request', 'for', 'Proposal', '(RFP),', 'not', 'an', 'order']), (0.05639206057922288, ['VP', 'of', 'Regulatory', 'Affairs:', 'Ron', 'Robison', 'Number', 'of', 'Regulatory', 'Affairs', 'Employees:', '600', 'Number', 'of', 'Affiliates:', 'Approximately', '75', 'Countries', 'Where', 'Products', 'are', 'Sold:', 'More', 'than', '160', 'across', '5', 'regions', 'Number', 'of', 'Global', 'Regulatory', 'Submissions/Month:', 'More', 'than', '30', 'Corporate', 'Services', '(HQ)', 'and', 'Affiliates', 'Area', '&', 'Affiliate', '(A&A)', 'Regulatory', 'Affairs', 'is', 'accountable', 'for', 'area,', 'regional,', 'and', 'affiliate', 'regulatory', 'strategies', 'and', 'deliverables', 'for', 'the', 'proprietary', 'product', 'portfolio', 'in', 'alignment', 'with', 'the', 'overarching', 'global', 'regulatory', 'strategy', 'for', 'each', 'product']), (0.050618820398746885, ['myRA!', '?', 'Portal', '&', 'Integration', 'Platform', 'The', 'myRA!', 'Platform', 'will', 'contain', 'the', 'following', 're-usable', 'and', 'configurable', 'capabilities:', 'Personalized', 'User', 'Experience', '?', 'User-Configurable', 'User', 'Experience', '?', 'Tailor-able', 'Experience', 'based', 'on', 'User', 'Roles', '?', 'Single', 'Sign-On', '?', 'Self-manage,', 'monitor,', 'and', 'execute', 'tasks', '?', 'Manage', 'Basic', 'Workflow', 'and', 'approvals', '?', 'Context-based', 'reporting', 'and', 'analytics', 'Process', 'Workflow', 'Enablement', '?', 'Two-way', 'managed', 'request-response', '?', 'Cross-functional', 'process', 'workflow', '?', 'Joint', 'decision-making', 'and', 'content', 'review', '?', 'Track', 'and', 'monitor', 'end-to-end', 'process', 'activity', '?', 'Automatic', 'notifications', 'of', 'events', 'and', 'status', 'Integrated', 'and', 'Readily-accessible', 'Data', '?', 'Automated', 'delivery', 'of', 'right-time', 'content', '?', 'Deliver', 'integrated', 'data', 'from', 'multiple', 'sources', '?', 'Maintain', 'integrity', 'of', 'data', 'across', 'systems', '?', 'Automate', 'and', 'expedite', 'data', 'entry', 'The', 'solution', 'will', 'require', 'forward-thinking', 'to', 'consider', 'scaling', 'for', 'globalization,', 'collaboration', 'opportunities,', 'business', 'service', 'extensions,', 'and', 'ultimately', 'support', 'for', 'multiple', 'channels', 'including', 'web,', 'e-mail,', 'and', 'mobile', 'support']), (0.050212817250559094, ['Request', 'for', 'Proposal', '(RFP)', 'for', 'myRA!', 'Platform', 'Delivery', 'Issue', 'Date:', 'July', '30,', '2013', 'RFP', 'Due', 'Date:', 'August', '14,', '2013', 'Table', 'of', 'Contents', '1']), (0.048083507141656344, ['RFP', 'Response', 'Format', '29', '9.1', 'Cover', 'Letter', '29', '9.2', 'Management', 'Summary', '29', '9.3', 'Company', 'Background', 'Questionnaire', '29', '9.4', 'Project', 'Team', 'Structure,', 'Project', 'Team', 'Profile,', 'and', 'Key', 'Personnel', 'Bios', '29', '9.5', 'Implementation', 'Approach', 'and', 'Preliminary', 'Work-plan', '30', '9.6', 'Solution', 'Design', 'Approach', '30', '9.7', 'Client', 'References', '30', '9.8', 'Pricing', 'Schedule', '31', '9.9', 'Pricing', 'Assumptions', '31', '9.10', 'Time', 'and', 'Materials', 'Hourly', 'Rate', 'Card', '31', '9.11', 'Capability', 'Requirements', 'Assessment', '31', '1']), (0.04321150588383837, ['Project', 'Bidding', 'Assumptions', '20', '5.1', 'Vendor', 'Mix', '20', '5.2', 'Buyer', 'Cost', 'Preferences', '20', '5.3', 'Process', 'and', 'Procedures', '20', '5.4', 'Quality', 'of', 'Deliverables', '20', '5.5', 'Leveraging', 'Assets', 'and', 'Creative', 'Design', '21', '5.6', 'Delivery', 'Approach', '21', '5.7', 'Facilities', 'and', 'Computing', 'Services', '21', '6']), (0.03865984827688794, ['5']), (0.036408958957825, ['7.5', 'Evaluation', 'Guidelines', 'Respondents', 'will', 'be', 'evaluated', 'on', 'the', 'basis', 'of', 'the', 'written', 'proposal', 'and,', 'if', 'selected,', 'the', 'on-site', 'presentation']), (0.03624172933334032, ['9.8', 'Pricing', 'Schedule', 'The', 'Buyer', 'intends', 'to', 'award', 'a', 'contract', 'for', 'a', 'series', 'of', 'deliverables', 'comprising', 'the', 'myRA!', 'e-business', 'solution']), (0.032583068000466585, ['Technical', 'Considerations', '15', '4.1', 'Service-oriented', 'Architecture', '15', '4.2', 'Solution', 'Technology', 'Preferences', '15', '4.3', 'Technical', 'Environments', '16', '4.4', 'Integrations', '16', '4.5', 'Cloud', 'Computing', 'Solutions', '17', '4.6', 'Innovative', 'Solutions', 'and', 'Accelerators', '18', '4.7', 'Common', '?Master?', 'Data', 'Management', '18', '5']), (0.03165154935828791, ['Contact', 'Information', 'and', 'Timeline', '22', '6.1', 'Point', 'of', 'Contact', '22', '6.2', 'Response', 'Process', 'and', 'Timelines', '22', '7']), (0.023058777574364687, ['', 'Summarize', 'Text:', 'AbbVie', 'Inc']), (0.021972283119271976, ['Nondisclosure', 'Agreement', 'and', 'Usage', 'Restrictions', '28', '9'])]\n",
            "debug 10 20\n",
            "Summarize Text: \n",
            " RFP Scope 9 3.1 Project Overview 9 3.2 Project Milestones 9 3.3 Solution Areas 9 3.4 Platform Components 10 3.5 Delivery Process 11 3.6 Deliverables 13 4. Introduction 4 1.1 RFP Description 4 1.2 RFP Purpose 4 1.3 Glossary of Terms 4 1.4 Bidding on the RFP 5 1.5 Related Documents 5 2. Facts: Chairman and CEO: Rick Gonzalez Corporate Headquarters: North suburban Chicago (Lake County), Illinois, USA Stock Exchange Listing: ABBV: NYSE Number of Employees: Worldwide: 21,000 2012 Net Sales: $18.38 billion Facilities: Locations within more than 100 countries Pharmaceutical Research Centers: ? Abbott Park and North Chicago, Illinois, USA ? Redwood City, CA, USA ? Worcester, MA, USA ? Ludwigshafen, Germany Data Centers ? Asia ? Midwest ? Europe Countries Where Products are Sold: More than 170 Areas of Expertise: Specialty-focused, research-based biopharmaceutical company 2.2 Regulatory Affairs Business Background Regulatory Affairs Overview Regulatory Affairs (RA) is the organization within AbbVie that ensures compliance with all the regulations and laws pertaining to health care products. J23 North Chicago, IL 60064 United States of America Work Phone 847-938-7865 E-mail james.kulakowski@abbvie.com Secondary Buyer Contact Information Name Lia Bronson, AbbVie RA IT Program Manager Work Phone 847-935-1233 E-mail lia.bronson@abbvie.com 6.2 Response Process and Timelines The RFP process and timelines are indicated in the table below. 2.3 Project Objectives AbbVie Regulatory Affairs has traditionally used standard off-the-shelf proprietary vendor applications to deliver independent solutions that solve departmental application-specific problems. Background 6 2.1 AbbVie Business Background 6 2.2 Regulatory Affairs Business Background 6 2.3 Project Objectives 8 3. RFP Rules and Guidelines 24 7.1 General RFP Terms and Procedures 24 7.2 Written Response Guidelines 25 7.3 Presentation Guidelines 25 7.4 Supplier Selection Guidelines 26 7.5 Evaluation Guidelines 27 8. Introduction 1.1 RFP Description This is a Request for Proposal (RFP), not an order. VP of Regulatory Affairs: Ron Robison Number of Regulatory Affairs Employees: 600 Number of Affiliates: Approximately 75 Countries Where Products are Sold: More than 160 across 5 regions Number of Global Regulatory Submissions/Month: More than 30 Corporate Services (HQ) and Affiliates Area & Affiliate (A&A) Regulatory Affairs is accountable for area, regional, and affiliate regulatory strategies and deliverables for the proprietary product portfolio in alignment with the overarching global regulatory strategy for each product. myRA! ? Portal & Integration Platform The myRA! Platform will contain the following re-usable and configurable capabilities: Personalized User Experience ? User-Configurable User Experience ? Tailor-able Experience based on User Roles ? Single Sign-On ? Self-manage, monitor, and execute tasks ? Manage Basic Workflow and approvals ? Context-based reporting and analytics Process Workflow Enablement ? Two-way managed request-response ? Cross-functional process workflow ? Joint decision-making and content review ? Track and monitor end-to-end process activity ? Automatic notifications of events and status Integrated and Readily-accessible Data ? Automated delivery of right-time content ? Deliver integrated data from multiple sources ? Maintain integrity of data across systems ? Automate and expedite data entry The solution will require forward-thinking to consider scaling for globalization, collaboration opportunities, business service extensions, and ultimately support for multiple channels including web, e-mail, and mobile support\n"
          ],
          "name": "stdout"
        }
      ]
    },
    {
      "cell_type": "markdown",
      "metadata": {
        "id": "iKn6OUuox9KE",
        "colab_type": "text"
      },
      "source": [
        "# New Section"
      ]
    }
  ]
}